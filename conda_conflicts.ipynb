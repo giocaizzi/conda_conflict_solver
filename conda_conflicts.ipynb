{
 "cells": [
  {
   "cell_type": "code",
   "execution_count": 2,
   "id": "realistic-incentive",
   "metadata": {},
   "outputs": [],
   "source": [
    "import functools\n",
    "import re\n",
    "from dataclasses import dataclass\n",
    "from typing import Dict, List, Optional\n",
    "\n",
    "from conda.models import version as cv"
   ]
  },
  {
   "cell_type": "code",
   "execution_count": 3,
   "metadata": {},
   "outputs": [],
   "source": [
    "with open(\"conflicts.txt\",\"r\") as f:\n",
    "    conflictstr = f.read()"
   ]
  },
  {
   "cell_type": "code",
   "execution_count": 4,
   "id": "painful-meditation",
   "metadata": {},
   "outputs": [
    {
     "data": {
      "text/plain": [
       "[ConstraintGroup(name=None, constraints=[]),\n",
       " ConstraintGroup(name=None, constraints=[]),\n",
       " ConstraintGroup(name='libzlib', constraints=[Constraint(dependency='matplotlib', versions=VersionSpec('1.2.11|1.2.11|>=1.2.11,<1.3.0a0')), Constraint(dependency='pytrends', versions=VersionSpec('>=1.2.11,<1.3.0a0')), Constraint(dependency='dataclasses', versions=VersionSpec('>=1.2.11,<1.3.0a0')), Constraint(dependency='requests', versions=VersionSpec('>=1.2.11,<1.3.0a0')), Constraint(dependency='numpy', versions=VersionSpec('>=1.2.11,<1.3.0a0')), Constraint(dependency='pip', versions=VersionSpec('>=1.2.11,<1.3.0a0')), Constraint(dependency='mplfinance', versions=VersionSpec('>=1.2.11,<1.3.0a0')), Constraint(dependency='pandas', versions=VersionSpec('>=1.2.11,<1.3.0a0')), Constraint(dependency='ipython', versions=VersionSpec('>=1.2.11,<1.3.0a0')), Constraint(dependency='python-dateutil', versions=VersionSpec('>=1.2.11,<1.3.0a0')), Constraint(dependency='ipykernel', versions=VersionSpec('>=1.2.11,<1.3.0a0')), Constraint(dependency='python-telegram-bot', versions=VersionSpec('>=1.2.11,<1.3.0a0'))]),\n",
       " ConstraintGroup(name='requests', constraints=[Constraint(dependency='zipline', versions=VersionSpec('>=1.0.0|>=2.19.0|>=2.3.0')), Constraint(dependency='zipline', versions=VersionSpec('>=2.9.1'))]),\n",
       " ConstraintGroup(name='pypy3.7', constraints=[Constraint(dependency='numpy', versions=VersionSpec('>=7.3.3|>=7.3.4|>=7.3.5')), Constraint(dependency='ipython', versions=VersionSpec('>=7.3.3|>=7.3.4|>=7.3.5')), Constraint(dependency='pip', versions=VersionSpec('7.3.3.*|7.3.4.*|7.3.5.*|>=7.3.3|>=7.3.5')), Constraint(dependency='ipykernel', versions=VersionSpec('>=7.3.3|>=7.3.4')), Constraint(dependency='numpy', versions=VersionSpec('7.3.*|7.3.3.*|7.3.4.*|7.3.5.*')), Constraint(dependency='python-dateutil', versions=VersionSpec('7.3.3.*|7.3.4.*|7.3.5.*')), Constraint(dependency='pandas', versions=VersionSpec('7.3.*|7.3.3.*|7.3.4.*|7.3.5.*')), Constraint(dependency='mplfinance', versions=VersionSpec('7.3.3.*|7.3.4.*|7.3.5.*|>=7.3.3|>=7.3.4|>=7.3.5')), Constraint(dependency='ipykernel', versions=VersionSpec('7.3.*|7.3.3.*|7.3.4.*|7.3.5.*|>=7.3.5')), Constraint(dependency='zipline', versions=VersionSpec('>=7.3.3|>=7.3.5|>=7.3.4')), Constraint(dependency='pandas', versions=VersionSpec('>=7.3.3|>=7.3.4|>=7.3.5')), Constraint(dependency='python-telegram-bot', versions=VersionSpec('7.3.3.*|7.3.4.*|7.3.5.*|>=7.3.3|>=7.3.5|>=7.3.4')), Constraint(dependency='pytrends', versions=VersionSpec('7.3.3.*|7.3.4.*|7.3.5.*|>=7.3.3|>=7.3.5|>=7.3.4')), Constraint(dependency='dataclasses', versions=VersionSpec('7.3.3.*|7.3.4.*|7.3.5.*')), Constraint(dependency='matplotlib', versions=VersionSpec('7.3.*|7.3.3.*|7.3.4.*|7.3.5.*')), Constraint(dependency='ipython', versions=VersionSpec('7.3.*|7.3.3.*|7.3.4.*|7.3.5.*')), Constraint(dependency='requests', versions=VersionSpec('7.3.3.*|7.3.4.*|7.3.5.*|>=7.3.3|>=7.3.4|>=7.3.5')), Constraint(dependency='matplotlib', versions=VersionSpec('>=7.3.3|>=7.3.4|>=7.3.5'))]),\n",
       " ConstraintGroup(name='backports', constraints=[]),\n",
       " ConstraintGroup(name='setuptools', constraints=[Constraint(dependency='zipline', versions=VersionSpec('>18.0')), Constraint(dependency='ipython', versions=VersionSpec('>=18.5')), Constraint(dependency='ipykernel', versions=VersionSpec('>=18.5'))]),\n",
       " ConstraintGroup(name='pip', constraints=[Constraint(dependency='zipline', versions=VersionSpec('>=7.1.0'))]),\n",
       " ConstraintGroup(name='tzdata', constraints=[]),\n",
       " ConstraintGroup(name='python-dateutil', constraints=[Constraint(dependency='zipline', versions=VersionSpec('>=2.4.2')), Constraint(dependency='pytrends', versions=VersionSpec('>=2.6.1|>=2.7.3')), Constraint(dependency='ipykernel', versions=VersionSpec('>=2.1')), Constraint(dependency='zipline', versions=VersionSpec('>=2.5.*|>=2.6.1|>=2.7.3')), Constraint(dependency='pandas', versions=VersionSpec('>=2.5.*|>=2.6.1|>=2.7.3')), Constraint(dependency='matplotlib', versions=VersionSpec('>=2.1')), Constraint(dependency='mplfinance', versions=VersionSpec('>=2.1|>=2.7.3|>=2.6.1|>=2.5.*'))]),\n",
       " ConstraintGroup(name='wheel', constraints=[]),\n",
       " ConstraintGroup(name='libcxxabi', constraints=[Constraint(dependency='pandas', versions=VersionSpec('4.0.1|8.0.1|8.0.0|8.0.0|8.0.0|8.0.0')), Constraint(dependency='numpy', versions=VersionSpec('4.0.1|8.0.1|8.0.0|8.0.0|8.0.0|8.0.0')), Constraint(dependency='matplotlib', versions=VersionSpec('4.0.1|8.0.1|8.0.0|8.0.0|8.0.0|8.0.0')), Constraint(dependency='python=3.6', versions=VersionSpec('4.0.1|8.0.1|8.0.0|8.0.0|8.0.0|8.0.0'))]),\n",
       " ConstraintGroup(name='certifi', constraints=[Constraint(dependency='pip', versions=VersionSpec('>=2016.09|>=2016.9.26')), Constraint(dependency='zipline', versions=VersionSpec('>=2016.09|>=2016.9.26|>=2017.4.17')), Constraint(dependency='matplotlib', versions=VersionSpec('>=2016.09|>=2016.9.26|>=2020.06.20')), Constraint(dependency='mplfinance', versions=VersionSpec('>=2020.06.20')), Constraint(dependency='pytrends', versions=VersionSpec('>=2017.4.17')), Constraint(dependency='requests', versions=VersionSpec('>=2017.4.17')), Constraint(dependency='ipython', versions=VersionSpec('>=2016.09|>=2016.9.26'))]),\n",
       " ConstraintGroup(name='ipython', constraints=[Constraint(dependency='ipykernel', versions=VersionSpec('>=4.0.0|>=4.0|>=5.0|>=7.23.1,<8.0|>=7.23.1'))]),\n",
       " ConstraintGroup(name='pytz', constraints=[Constraint(dependency='pandas', versions=VersionSpec('>=2017.2|>=2017.3')), Constraint(dependency='pytrends', versions=VersionSpec('>=2017.2|>=2017.3')), Constraint(dependency='mplfinance', versions=VersionSpec('>=2017.2|>=2017.3')), Constraint(dependency='python-telegram-bot', versions=VersionSpec('>=2018.6')), Constraint(dependency='zipline', versions=VersionSpec('>=2015.4|>=2016.4|>=2018.5')), Constraint(dependency='zipline', versions=VersionSpec('>=2017.2|>=2017.3'))]),\n",
       " ConstraintGroup(name='ca-certificates', constraints=[]),\n",
       " ConstraintGroup(name='contextlib2', constraints=[Constraint(dependency='zipline', versions=VersionSpec('>=0.4.0'))]),\n",
       " ConstraintGroup(name='expat', constraints=[Constraint(dependency='python=3.6', versions=VersionSpec('>=2.2.10,<3.0.0a0|>=2.2.9,<3.0.0a0')), Constraint(dependency='ipykernel', versions=VersionSpec('>=2.2.10,<3.0.0a0|>=2.2.9,<3.0.0a0|>=2.4.1,<3.0a0|>=2.3.0,<3.0a0')), Constraint(dependency='matplotlib', versions=VersionSpec('>=2.2.10,<3.0.0a0|>=2.3.0,<3.0a0|>=2.4.1,<3.0a0|>=2.2.9,<3.0.0a0')), Constraint(dependency='pandas', versions=VersionSpec('>=2.2.10,<3.0.0a0|>=2.3.0,<3.0a0|>=2.4.1,<3.0a0|>=2.2.9,<3.0.0a0')), Constraint(dependency='numpy', versions=VersionSpec('>=2.2.10,<3.0.0a0|>=2.3.0,<3.0a0|>=2.4.1,<3.0a0|>=2.2.9,<3.0.0a0')), Constraint(dependency='ipython', versions=VersionSpec('>=2.2.10,<3.0.0a0|>=2.3.0,<3.0a0|>=2.4.1,<3.0a0|>=2.2.9,<3.0.0a0'))]),\n",
       " ConstraintGroup(name='six', constraints=[Constraint(dependency='pandas', versions=VersionSpec('>=1.5')), Constraint(dependency='python-telegram-bot', versions=VersionSpec('>=1.4.0|>=1.4.1')), Constraint(dependency='zipline', versions=VersionSpec('>=1.4.0|>=1.5')), Constraint(dependency='matplotlib', versions=VersionSpec('>=1.5')), Constraint(dependency='python-dateutil', versions=VersionSpec('>=1.5')), Constraint(dependency='zipline', versions=VersionSpec('>=1.10.0|>=1.9.0')), Constraint(dependency='ipython', versions=VersionSpec('>=1.9.0'))]),\n",
       " ConstraintGroup(name='cachetools', constraints=[Constraint(dependency='zipline', versions=VersionSpec('>=1.1.5'))]),\n",
       " ConstraintGroup(name='pandas', constraints=[Constraint(dependency='zipline', versions=VersionSpec('>=0.16.1|>=0.16.1,<0.18|>=0.18.1,<0.19|>=0.18.1,<=0.22')), Constraint(dependency='zipline', versions=VersionSpec('>=0.14|>=0.17.0,<0.19|>=0.19.2|>=0.21|>=1.0|>=0.23|>=1.1')), Constraint(dependency='pytrends', versions=VersionSpec('>=0.25'))]),\n",
       " ConstraintGroup(name='tornado', constraints=[Constraint(dependency='ipykernel', versions=VersionSpec('>=4.0|>=4.2|>=4.2,<7.0')), Constraint(dependency='ipykernel', versions=VersionSpec('>=4.1|>=4.1,<6')), Constraint(dependency='python-telegram-bot', versions=VersionSpec('>=5.1|>=6.1'))]),\n",
       " ConstraintGroup(name='backports_abc', constraints=[Constraint(dependency='ipykernel', versions=VersionSpec('>=0.4')), Constraint(dependency='python-telegram-bot', versions=VersionSpec('>=0.4')), Constraint(dependency='matplotlib', versions=VersionSpec('>=0.4'))]),\n",
       " ConstraintGroup(name='numpy', constraints=[Constraint(dependency='pytrends', versions=VersionSpec('>=1.13.3,<2.0a0|>=1.14.6,<2.0a0|>=1.15.4,<2.0a0|>=1.16.6,<2.0a0|>=1.19.2,<2.0a0|>=1.20.3,<2.0a0|>=1.20.2,<2.0a0|>=1.19.5,<2.0a0|>=1.18.5,<2.0a0|>=1.17.5,<2.0a0|>=1.19.4,<2.0a0|>=1.16.5,<2.0a0|>=1.18.4,<2.0a0|>=1.18.1,<2.0a0')), Constraint(dependency='matplotlib', versions=VersionSpec('>=1.11.3,<2.0a0|>=1.15.4,<2.0a0|>=1.16.6,<2.0a0|>=1.18.5,<2.0a0|>=1.17.5,<2.0a0|>=1.19.5,<2.0a0|>=1.16.5,<2.0a0|>=1.19.4,<2.0a0|>=1.19.2,<2.0a0|>=1.9.3,<2.0a0')), Constraint(dependency='matplotlib', versions=VersionSpec('1.10.*|1.11.*|>=1.14.6,<2.0a0')), Constraint(dependency='mplfinance', versions=VersionSpec('1.10.*|1.11.*|1.12.*|1.13.*|>=1.11|>=1.11.*|>=1.11.3,<2.0a0|>=1.14.6,<2.0a0|>=1.15.4,<2.0a0|>=1.16.6,<2.0a0|>=1.18.5,<2.0a0|>=1.19.5,<2.0a0|>=1.17.5,<2.0a0|>=1.19.4,<2.0a0|>=1.16.5,<2.0a0|>=1.19.2,<2.0a0|>=1.9.3,<2.0a0|>=1.20.3,<2.0a0|>=1.20.2,<2.0a0|>=1.13.3,<2.0a0|>=1.12.1,<2.0a0|>=1.9.3,<1.10.0a0|>=1.9|>=1.18.4,<2.0a0|>=1.18.1,<2.0a0|>=1.9.*|>=1.8|>=1.7')), Constraint(dependency='pandas', versions=VersionSpec('>=1.16.4,<2.0a0')), Constraint(dependency='pandas', versions=VersionSpec('1.10.*|1.11.*|1.12.*|1.13.*|>=1.11|>=1.11.*|>=1.11.3,<2.0a0|>=1.12.1,<2.0a0|>=1.13.3,<2.0a0|>=1.14.6,<2.0a0|>=1.15.4,<2.0a0|>=1.16.6,<2.0a0|>=1.19.2,<2.0a0|>=1.20.3,<2.0a0|>=1.20.2,<2.0a0|>=1.9.3,<2.0a0|>=1.9.3,<1.10.0a0|>=1.9|>=1.19.5,<2.0a0|>=1.18.5,<2.0a0|>=1.17.5,<2.0a0|>=1.19.4,<2.0a0|>=1.16.5,<2.0a0|>=1.18.4,<2.0a0|>=1.18.1,<2.0a0|>=1.9.*|>=1.8|>=1.7')), Constraint(dependency='zipline', versions=VersionSpec('1.10.*|1.9.*|>=1.11,<1.12.0a0|>=1.11.3,<2.0a0|>=1.14,<1.15.0a0|1.8.*')), Constraint(dependency='zipline', versions=VersionSpec('1.11.*|1.12.*|>=1.11|>=1.14.6,<2.0a0|>=1.9.3,<2.0a0|>=1.16.6,<2.0a0|>=1.19.5,<2.0a0|>=1.18.5,<2.0a0|>=1.16.5,<2.0a0|>=1.19.2,<2.0a0|>=1.18.1,<2.0a0|>=1.8|1.13.*|>=1.9.2|>=1.17.5,<2.0a0|>=1.19.4,<2.0a0|>=1.8,<1.14|>=1.16.4,<2.0a0|>=1.15.4,<2.0a0|>=1.11.3|>=1.9.3,<1.10.0a0|>=1.9|>=1.11.*|>=1.9.*|>=1.7|>=1.4.0|>=1.15.1,<2.0a0|>=1.17.0,<2.0a0|>=1.19.1,<2.0a0|>=1.17.3,<2.0a0|>=1.19|>=1.20.3,<2.0a0|>=1.20.2,<2.0a0|>=1.13.3,<2.0a0|>=1.12.1,<2.0a0|>=1.18.4,<2.0a0'))]),\n",
       " ConstraintGroup(name='fonttools', constraints=[Constraint(dependency='mplfinance', versions=VersionSpec('>=4.22.0')), Constraint(dependency='matplotlib', versions=VersionSpec('>=4.22.0'))]),\n",
       " ConstraintGroup(name='decorator', constraints=[Constraint(dependency='zipline', versions=VersionSpec('>=3.4.0|>=4.1.0|>=4.3.0,<5|>=4.3.0')), Constraint(dependency='zipline', versions=VersionSpec('>=4.0.0')), Constraint(dependency='python-telegram-bot', versions=VersionSpec('>=4.4.0'))]),\n",
       " ConstraintGroup(name='ssl_match_hostname', constraints=[]),\n",
       " ConstraintGroup(name='numpy-base', constraints=[Constraint(dependency='numpy', versions=VersionSpec('1.11.3|1.11.3|1.11.3|1.11.3|1.11.3|1.11.3|1.11.3|1.11.3|1.11.3|1.11.3|1.11.3|1.11.3|1.11.3|1.11.3|1.11.3|1.11.3|1.11.3|1.11.3|1.11.3|1.11.3|1.11.3|1.11.3|1.11.3|1.11.3|1.11.3|1.11.3|1.11.3|1.11.3|1.11.3|1.11.3|1.11.3|1.11.3|1.11.3|1.11.3|1.11.3|1.11.3|1.11.3|1.11.3|1.11.3|1.11.3|1.11.3|1.11.3|1.11.3|1.11.3|1.11.3|1.11.3|1.11.3|1.11.3|1.11.3|1.11.3|1.11.3|1.11.3|1.11.3|1.11.3|1.14.3|1.14.3|1.14.3|1.14.3|1.14.3|1.14.3|1.14.4|1.14.4|1.14.4|1.14.4|1.14.4|1.14.4|1.14.5|1.14.5|1.14.5|1.14.5|1.14.5|1.14.5|1.14.5|1.14.5|1.14.5|1.14.5|1.14.5|1.14.5|1.14.5|1.14.5|1.14.5|1.14.5|1.14.5|1.14.5|1.14.5|1.14.5|1.14.5|1.14.5|1.14.5|1.14.5|1.14.5|1.14.5|1.14.5|1.14.5|1.14.5|1.14.5|1.14.5|1.14.5|1.14.6|1.14.6|1.14.6|1.14.6|1.14.6|1.14.6|1.14.6|1.14.6|1.14.6|1.14.6|1.14.6|1.14.6|1.14.6|1.14.6|1.14.6|1.14.6|1.15.0|1.15.0|1.15.0|1.15.0|1.15.0|1.15.0|1.15.0|1.15.0|1.15.1|1.15.1|1.15.1|1.15.1|1.15.1|1.15.1|1.15.1|1.15.1|1.15.1|1.15.1|1.15.1|1.15.1|1.15.2|1.15.2|1.15.2|1.15.2|1.15.2|1.15.2|1.15.2|1.15.2|1.15.2|1.15.2|1.15.2|1.15.2|1.15.2|1.15.2|1.15.3|1.15.3|1.15.3|1.15.3|1.15.3|1.15.3|1.15.4|1.15.4|1.15.4|1.15.4|1.15.4|1.15.4|1.15.4|1.15.4|1.15.4|1.16.0|1.16.0|1.16.0|1.16.0|1.16.0|1.16.0|1.16.0|1.16.0|1.16.0|1.16.0|1.16.0|1.16.0|1.16.1|1.16.1|1.16.1|1.16.1|1.16.1|1.16.1|1.16.1|1.16.1|1.16.1|1.16.1|1.16.1|1.16.1|1.16.2|1.16.2|1.16.2|1.16.2|1.16.2|1.16.2|1.16.3|1.16.3|1.16.3|1.16.3|1.16.3|1.16.3|1.16.4|1.16.4|1.16.4|1.16.4|1.16.4|1.16.4|1.16.5|1.16.5|1.16.5|1.16.5|1.16.5|1.16.5|1.16.6|1.16.6|1.16.6|1.16.6|1.16.6|1.16.6|1.16.6|1.16.6|1.16.6|1.16.6|1.16.6|1.16.6|1.16.6|1.16.6|1.16.6|1.16.6|1.16.6|1.16.6|1.17.2.*|1.17.3.*|1.17.4.*|1.18.1.*|1.18.5.*|1.19.1|1.19.1|1.19.1|1.19.1|1.19.1|1.19.1|1.19.2|1.19.2|1.19.2|1.19.2|1.19.2|1.19.2|1.19.2|1.19.2|1.20.1|1.20.1|1.20.1|1.20.1|1.20.1|1.20.1|1.20.2|1.20.2|1.20.2|1.20.2|1.20.2|1.20.2|1.20.3|1.20.3|1.20.3|1.20.3|1.20.3|1.20.3|1.21.2|1.9.3|1.9.3|1.9.3|1.9.3|1.9.3|1.9.3|1.9.3|1.9.3|1.9.3|1.9.3|1.9.3|1.9.3|1.9.3|1.9.3|>=1.9.3,<2.0a0|1.17.0|1.17.0')), Constraint(dependency='zipline', versions=VersionSpec('1.11.3|1.11.3|1.11.3|1.11.3|1.11.3|1.11.3|1.11.3|1.11.3|1.11.3|1.11.3|1.11.3|1.11.3|1.11.3|1.11.3|1.11.3|1.11.3|1.11.3|1.11.3|1.11.3|1.11.3|1.11.3|1.11.3|1.11.3|1.11.3|1.11.3|1.11.3|1.11.3|1.11.3|1.11.3|1.11.3|1.11.3|1.11.3|1.11.3|1.11.3|1.11.3|1.11.3|1.11.3|1.11.3|1.11.3|1.11.3|1.11.3|1.11.3|1.11.3|1.11.3|1.11.3|1.11.3|1.11.3|1.11.3|1.11.3|1.11.3|1.11.3|1.11.3|1.11.3|1.11.3|1.14.3|1.14.3|1.14.3|1.14.3|1.14.3|1.14.3|1.14.4|1.14.4|1.14.4|1.14.4|1.14.4|1.14.4|1.14.5|1.14.5|1.14.5|1.14.5|1.14.5|1.14.5|1.14.5|1.14.5|1.14.5|1.14.5|1.14.5|1.14.5|1.14.5|1.14.5|1.14.5|1.14.5|1.14.5|1.14.5|1.14.5|1.14.5|1.14.5|1.14.5|1.14.5|1.14.5|1.14.5|1.14.5|1.14.5|1.14.5|1.14.5|1.14.5|1.14.5|1.14.5|1.14.6|1.14.6|1.14.6|1.14.6|1.14.6|1.14.6|1.14.6|1.14.6|1.14.6|1.14.6|1.14.6|1.14.6|1.14.6|1.14.6|1.14.6|1.14.6|1.15.0|1.15.0|1.15.0|1.15.0|1.15.0|1.15.0|1.15.0|1.15.0|1.15.1|1.15.1|1.15.1|1.15.1|1.15.1|1.15.1|1.15.1|1.15.1|1.15.1|1.15.1|1.15.1|1.15.1|1.15.2|1.15.2|1.15.2|1.15.2|1.15.2|1.15.2|1.15.2|1.15.2|1.15.2|1.15.2|1.15.2|1.15.2|1.15.2|1.15.2|1.15.3|1.15.3|1.15.3|1.15.3|1.15.3|1.15.3|1.15.4|1.15.4|1.15.4|1.15.4|1.15.4|1.15.4|1.15.4|1.15.4|1.15.4|1.16.0|1.16.0|1.16.0|1.16.0|1.16.0|1.16.0|1.16.0|1.16.0|1.16.0|1.16.0|1.16.0|1.16.0|1.16.1|1.16.1|1.16.1|1.16.1|1.16.1|1.16.1|1.16.1|1.16.1|1.16.1|1.16.1|1.16.1|1.16.1|1.16.2|1.16.2|1.16.2|1.16.2|1.16.2|1.16.2|1.16.3|1.16.3|1.16.3|1.16.3|1.16.3|1.16.3|1.16.4|1.16.4|1.16.4|1.16.4|1.16.4|1.16.4|1.16.5|1.16.5|1.16.5|1.16.5|1.16.5|1.16.5|1.16.6|1.16.6|1.16.6|1.16.6|1.16.6|1.16.6|1.16.6|1.16.6|1.16.6|1.16.6|1.16.6|1.16.6|1.16.6|1.16.6|1.16.6|1.16.6|1.16.6|1.16.6|1.17.2.*|1.17.3.*|1.17.4.*|1.18.1.*|1.18.5.*|1.19.1|1.19.1|1.19.1|1.19.1|1.19.1|1.19.1|1.19.2|1.19.2|1.19.2|1.19.2|1.19.2|1.19.2|1.19.2|1.19.2|1.20.1|1.20.1|1.20.1|1.20.1|1.20.1|1.20.1|1.20.2|1.20.2|1.20.2|1.20.2|1.20.2|1.20.2|1.20.3|1.20.3|1.20.3|1.20.3|1.20.3|1.20.3|1.21.2|1.21.2|1.21.2|1.21.2|1.21.2|1.21.2|>=1.17.3,<2.0a0|1.17.0|1.17.0|1.9.3|1.9.3|1.9.3|1.9.3|1.9.3|1.9.3|1.9.3|1.9.3|1.9.3|1.9.3|1.9.3|1.9.3|1.9.3|1.9.3|>=1.9.3,<2.0a0')), Constraint(dependency='numpy', versions=VersionSpec('>=1.0.14,<2.0a0|>=1.0.6,<2.0a0|>=1.0.2,<2.0a0|>=1.0.4,<2.0a0')), Constraint(dependency='pandas', versions=VersionSpec('1.11.3|1.11.3|1.11.3|1.11.3|1.11.3|1.11.3|1.11.3|1.11.3|1.11.3|1.11.3|1.11.3|1.11.3|1.11.3|1.11.3|1.11.3|1.11.3|1.11.3|1.11.3|1.11.3|1.11.3|1.11.3|1.11.3|1.11.3|1.11.3|1.11.3|1.11.3|1.11.3|1.11.3|1.11.3|1.11.3|1.11.3|1.11.3|1.11.3|1.11.3|1.11.3|1.11.3|1.11.3|1.11.3|1.11.3|1.11.3|1.11.3|1.11.3|1.11.3|1.11.3|1.11.3|1.11.3|1.11.3|1.11.3|1.11.3|1.11.3|1.11.3|1.11.3|1.11.3|1.11.3|1.14.3|1.14.3|1.14.3|1.14.3|1.14.3|1.14.3|1.14.4|1.14.4|1.14.4|1.14.4|1.14.4|1.14.4|1.14.5|1.14.5|1.14.5|1.14.5|1.14.5|1.14.5|1.14.5|1.14.5|1.14.5|1.14.5|1.14.5|1.14.5|1.14.5|1.14.5|1.14.5|1.14.5|1.14.5|1.14.5|1.14.5|1.14.5|1.14.5|1.14.5|1.14.5|1.14.5|1.14.5|1.14.5|1.14.5|1.14.5|1.14.5|1.14.5|1.14.5|1.14.5|1.14.6|1.14.6|1.14.6|1.14.6|1.14.6|1.14.6|1.14.6|1.14.6|1.14.6|1.14.6|1.14.6|1.14.6|1.14.6|1.14.6|1.14.6|1.14.6|1.15.0|1.15.0|1.15.0|1.15.0|1.15.0|1.15.0|1.15.0|1.15.0|1.15.1|1.15.1|1.15.1|1.15.1|1.15.1|1.15.1|1.15.1|1.15.1|1.15.1|1.15.1|1.15.1|1.15.1|1.15.2|1.15.2|1.15.2|1.15.2|1.15.2|1.15.2|1.15.2|1.15.2|1.15.2|1.15.2|1.15.2|1.15.2|1.15.2|1.15.2|1.15.3|1.15.3|1.15.3|1.15.3|1.15.3|1.15.3|1.15.4|1.15.4|1.15.4|1.15.4|1.15.4|1.15.4|1.15.4|1.15.4|1.15.4|1.16.0|1.16.0|1.16.0|1.16.0|1.16.0|1.16.0|1.16.0|1.16.0|1.16.0|1.16.0|1.16.0|1.16.0|1.16.1|1.16.1|1.16.1|1.16.1|1.16.1|1.16.1|1.16.1|1.16.1|1.16.1|1.16.1|1.16.1|1.16.1|1.16.2|1.16.2|1.16.2|1.16.2|1.16.2|1.16.2|1.16.3|1.16.3|1.16.3|1.16.3|1.16.3|1.16.3|1.16.4|1.16.4|1.16.4|1.16.4|1.16.4|1.16.4|1.16.5|1.16.5|1.16.5|1.16.5|1.16.5|1.16.5|1.16.6|1.16.6|1.16.6|1.16.6|1.16.6|1.16.6|1.16.6|1.16.6|1.16.6|1.16.6|1.16.6|1.16.6|1.16.6|1.16.6|1.16.6|1.16.6|1.16.6|1.16.6|1.17.2.*|1.17.3.*|1.17.4.*|1.18.1.*|1.18.5.*|1.19.1|1.19.1|1.19.1|1.19.1|1.19.1|1.19.1|1.19.2|1.19.2|1.19.2|1.19.2|1.19.2|1.19.2|1.19.2|1.19.2|1.20.1|1.20.1|1.20.1|1.20.1|1.20.1|1.20.1|1.20.2|1.20.2|1.20.2|1.20.2|1.20.2|1.20.2|1.20.3|1.20.3|1.20.3|1.20.3|1.20.3|1.20.3|1.21.2|1.21.2|1.21.2|1.21.2|1.21.2|1.21.2|>=1.17.3,<2.0a0|1.17.0|1.17.0|1.9.3|1.9.3|1.9.3|1.9.3|1.9.3|1.9.3|1.9.3|1.9.3|1.9.3|1.9.3|1.9.3|1.9.3|1.9.3|1.9.3|>=1.9.3,<2.0a0')), Constraint(dependency='matplotlib', versions=VersionSpec('1.11.3|1.11.3|1.11.3|1.11.3|1.11.3|1.11.3|1.11.3|1.11.3|1.11.3|1.11.3|1.11.3|1.11.3|1.11.3|1.11.3|1.11.3|1.11.3|1.11.3|1.11.3|1.11.3|1.11.3|1.11.3|1.11.3|1.11.3|1.11.3|1.11.3|1.11.3|1.11.3|1.11.3|1.11.3|1.11.3|1.11.3|1.11.3|1.11.3|1.11.3|1.11.3|1.11.3|1.11.3|1.11.3|1.11.3|1.11.3|1.11.3|1.11.3|1.11.3|1.11.3|1.11.3|1.11.3|1.11.3|1.11.3|1.11.3|1.11.3|1.11.3|1.11.3|1.11.3|1.11.3|1.14.3|1.14.3|1.14.3|1.14.3|1.14.3|1.14.3|1.14.4|1.14.4|1.14.4|1.14.4|1.14.4|1.14.4|1.14.5|1.14.5|1.14.5|1.14.5|1.14.5|1.14.5|1.14.5|1.14.5|1.14.5|1.14.5|1.14.5|1.14.5|1.14.5|1.14.5|1.14.5|1.14.5|1.14.5|1.14.5|1.14.5|1.14.5|1.14.5|1.14.5|1.14.5|1.14.5|1.14.5|1.14.5|1.14.5|1.14.5|1.14.5|1.14.5|1.14.5|1.14.5|1.14.6|1.14.6|1.14.6|1.14.6|1.14.6|1.14.6|1.14.6|1.14.6|1.14.6|1.14.6|1.14.6|1.14.6|1.14.6|1.14.6|1.14.6|1.14.6|1.15.0|1.15.0|1.15.0|1.15.0|1.15.0|1.15.0|1.15.0|1.15.0|1.15.1|1.15.1|1.15.1|1.15.1|1.15.1|1.15.1|1.15.1|1.15.1|1.15.1|1.15.1|1.15.1|1.15.1|1.15.2|1.15.2|1.15.2|1.15.2|1.15.2|1.15.2|1.15.2|1.15.2|1.15.2|1.15.2|1.15.2|1.15.2|1.15.2|1.15.2|1.15.3|1.15.3|1.15.3|1.15.3|1.15.3|1.15.3|1.15.4|1.15.4|1.15.4|1.15.4|1.15.4|1.15.4|1.15.4|1.15.4|1.15.4|1.16.0|1.16.0|1.16.0|1.16.0|1.16.0|1.16.0|1.16.0|1.16.0|1.16.0|1.16.0|1.16.0|1.16.0|1.16.1|1.16.1|1.16.1|1.16.1|1.16.1|1.16.1|1.16.1|1.16.1|1.16.1|1.16.1|1.16.1|1.16.1|1.16.2|1.16.2|1.16.2|1.16.2|1.16.2|1.16.2|1.16.3|1.16.3|1.16.3|1.16.3|1.16.3|1.16.3|1.16.4|1.16.4|1.16.4|1.16.4|1.16.4|1.16.4|1.16.5|1.16.5|1.16.5|1.16.5|1.16.5|1.16.5|1.16.6|1.16.6|1.16.6|1.16.6|1.16.6|1.16.6|1.16.6|1.16.6|1.16.6|1.16.6|1.16.6|1.16.6|1.16.6|1.16.6|1.16.6|1.16.6|1.16.6|1.16.6|1.17.2.*|1.17.3.*|1.17.4.*|1.18.1.*|1.18.5.*|1.19.1|1.19.1|1.19.1|1.19.1|1.19.1|1.19.1|1.19.2|1.19.2|1.19.2|1.19.2|1.19.2|1.19.2|1.19.2|1.19.2|1.20.1|1.20.1|1.20.1|1.20.1|1.20.1|1.20.1|1.20.2|1.20.2|1.20.2|1.20.2|1.20.2|1.20.2|1.20.3|1.20.3|1.20.3|1.20.3|1.20.3|1.20.3|1.21.2|1.17.0|1.17.0|1.9.3|1.9.3|1.9.3|1.9.3|1.9.3|1.9.3|1.9.3|1.9.3|1.9.3|1.9.3|1.9.3|1.9.3|1.9.3|1.9.3|>=1.9.3,<2.0a0'))]),\n",
       " ConstraintGroup(name='kiwisolver', constraints=[Constraint(dependency='matplotlib', versions=VersionSpec('>=1.0.1')), Constraint(dependency='mplfinance', versions=VersionSpec('>=1.0.1'))]),\n",
       " ConstraintGroup(name='libgfortran5', constraints=[Constraint(dependency='zipline', versions=VersionSpec('>=9.3.0')), Constraint(dependency='numpy', versions=VersionSpec('>=9.3.0'))]),\n",
       " ConstraintGroup(name='cryptography', constraints=[Constraint(dependency='requests', versions=VersionSpec('>=1.3.4'))]),\n",
       " ConstraintGroup(name='idna', constraints=[Constraint(dependency='zipline', versions=VersionSpec('>=2.5,<2.6|>=2.5,<2.7|>=2.5,<2.8|>=2.5,<2.9|>=2.5,<3|>=2.5,<4')), Constraint(dependency='pytrends', versions=VersionSpec('>=2.5,<2.6|>=2.5,<2.7|>=2.5,<2.8|>=2.5,<2.9|>=2.5,<3|>=2.5,<4')), Constraint(dependency='requests', versions=VersionSpec('>=2.5,<2.6|>=2.5,<2.7|>=2.5,<2.8|>=2.5,<2.9|>=2.5,<3|>=2.5,<4')), Constraint(dependency='python-telegram-bot', versions=VersionSpec('>=2.1')), Constraint(dependency='requests', versions=VersionSpec('>=2.0.0'))]),\n",
       " ConstraintGroup(name='enum34', constraints=[]),\n",
       " ConstraintGroup(name='lxml', constraints=[]),\n",
       " ConstraintGroup(name='matplotlib', constraints=[Constraint(dependency='zipline', versions=VersionSpec('>=3.3'))])]"
      ]
     },
     "execution_count": 4,
     "metadata": {},
     "output_type": "execute_result"
    }
   ],
   "source": [
    "@dataclass\n",
    "class Constraint:\n",
    "    dependency: Optional[\n",
    "        str\n",
    "    ]  # Name of dependency that requires the conflicting package\n",
    "    versions: cv.VersionSpec  # List of versions for the conflicting package\n",
    "\n",
    "\n",
    "@dataclass\n",
    "class ConstraintGroup:\n",
    "    name: str  # Name of conflicting package\n",
    "    constraints: List[Constraint]\n",
    "\n",
    "    def merge(self) -> cv.VersionSpec:\n",
    "        return functools.reduce(\n",
    "            lambda v1, v2: v1.merge(v2), (c.versions for c in self.constraints)\n",
    "        )\n",
    "\n",
    "\n",
    "def parse_conflicts(conflicts: str) -> List[ConstraintGroup]:\n",
    "    # groups separated by blank line\n",
    "    return [_parse_group(group) for group in conflicts.split(\"\\n\\n\")]\n",
    "\n",
    "\n",
    "def _parse_group(group: str) -> ConstraintGroup:\n",
    "    groupname = re.compile(r\"Package (\\S+) conflicts for:\")\n",
    "    lines = group.split(\"\\n\")\n",
    "    # first line gives name\n",
    "    match = groupname.match(lines[0])\n",
    "    name = match and match.group(1)\n",
    "    # look for versions in subsequent lines\n",
    "    return ConstraintGroup(\n",
    "        name, [c for c in (_parse_line(name, line) for line in lines[1:] if line) if c]\n",
    "    )\n",
    "\n",
    "\n",
    "def _parse_line(name: str, line: str) -> Constraint:\n",
    "    versionre = re.compile(r\"(?:(\\S+) .*)?\" + name + r\"(?:\\[version='([^']+)'[],])?\")\n",
    "    match = versionre.match(line)\n",
    "    if match:\n",
    "        dep = match.group(1)\n",
    "        spec = match.group(2)\n",
    "        if spec is None:\n",
    "            return None\n",
    "        versions = cv.VersionSpec(spec)\n",
    "        return Constraint(dep, versions)\n",
    "    else:\n",
    "        logging.warning(f\"Unable to parse {name} version in: {line!r}\")\n",
    "        return None\n",
    "\n",
    "\n",
    "conflicts = parse_conflicts(conflictstr)\n",
    "conflicts"
   ]
  },
  {
   "cell_type": "code",
   "execution_count": 5,
   "id": "dramatic-trunk",
   "metadata": {},
   "outputs": [
    {
     "ename": "TypeError",
     "evalue": "reduce() of empty sequence with no initial value",
     "output_type": "error",
     "traceback": [
      "\u001b[0;31m---------------------------------------------------------------------------\u001b[0m",
      "\u001b[0;31mTypeError\u001b[0m                                 Traceback (most recent call last)",
      "\u001b[0;32m/var/folders/qd/pm08qr3s0dx5q76fd9pxjgyh0000gn/T/ipykernel_1804/188665574.py\u001b[0m in \u001b[0;36m<module>\u001b[0;34m\u001b[0m\n\u001b[0;32m----> 1\u001b[0;31m \u001b[0mconflicts\u001b[0m\u001b[0;34m[\u001b[0m\u001b[0;36m0\u001b[0m\u001b[0;34m]\u001b[0m\u001b[0;34m.\u001b[0m\u001b[0mmerge\u001b[0m\u001b[0;34m(\u001b[0m\u001b[0;34m)\u001b[0m\u001b[0;34m\u001b[0m\u001b[0;34m\u001b[0m\u001b[0m\n\u001b[0m",
      "\u001b[0;32m/var/folders/qd/pm08qr3s0dx5q76fd9pxjgyh0000gn/T/ipykernel_1804/317060794.py\u001b[0m in \u001b[0;36mmerge\u001b[0;34m(self)\u001b[0m\n\u001b[1;32m     13\u001b[0m \u001b[0;34m\u001b[0m\u001b[0m\n\u001b[1;32m     14\u001b[0m     \u001b[0;32mdef\u001b[0m \u001b[0mmerge\u001b[0m\u001b[0;34m(\u001b[0m\u001b[0mself\u001b[0m\u001b[0;34m)\u001b[0m \u001b[0;34m->\u001b[0m \u001b[0mcv\u001b[0m\u001b[0;34m.\u001b[0m\u001b[0mVersionSpec\u001b[0m\u001b[0;34m:\u001b[0m\u001b[0;34m\u001b[0m\u001b[0;34m\u001b[0m\u001b[0m\n\u001b[0;32m---> 15\u001b[0;31m         return functools.reduce(\n\u001b[0m\u001b[1;32m     16\u001b[0m             \u001b[0;32mlambda\u001b[0m \u001b[0mv1\u001b[0m\u001b[0;34m,\u001b[0m \u001b[0mv2\u001b[0m\u001b[0;34m:\u001b[0m \u001b[0mv1\u001b[0m\u001b[0;34m.\u001b[0m\u001b[0mmerge\u001b[0m\u001b[0;34m(\u001b[0m\u001b[0mv2\u001b[0m\u001b[0;34m)\u001b[0m\u001b[0;34m,\u001b[0m \u001b[0;34m(\u001b[0m\u001b[0mc\u001b[0m\u001b[0;34m.\u001b[0m\u001b[0mversions\u001b[0m \u001b[0;32mfor\u001b[0m \u001b[0mc\u001b[0m \u001b[0;32min\u001b[0m \u001b[0mself\u001b[0m\u001b[0;34m.\u001b[0m\u001b[0mconstraints\u001b[0m\u001b[0;34m)\u001b[0m\u001b[0;34m\u001b[0m\u001b[0;34m\u001b[0m\u001b[0m\n\u001b[1;32m     17\u001b[0m         )\n",
      "\u001b[0;31mTypeError\u001b[0m: reduce() of empty sequence with no initial value"
     ]
    }
   ],
   "source": [
    "conflicts[0].merge()"
   ]
  },
  {
   "cell_type": "code",
   "execution_count": null,
   "id": "spanish-extension",
   "metadata": {},
   "outputs": [
    {
     "data": {
      "text/plain": [
       "True"
      ]
     },
     "execution_count": 8,
     "metadata": {},
     "output_type": "execute_result"
    }
   ],
   "source": [
    "conflicts[0].merge().match(\"6.1\")"
   ]
  },
  {
   "cell_type": "code",
   "execution_count": null,
   "id": "informed-cooling",
   "metadata": {},
   "outputs": [
    {
     "data": {
      "text/plain": [
       "VersionSpec('2.7.*|3.5.*|3.6.*|>=2.7,<2.8.0a0|>=3.6,<3.7.0a0|>=3.7,<3.8.0a0|>=3.8,<3.9.0a0|>=3.5,<3.6.0a0|3.4.*,2.7.*|3.5.*|3.6.*|>=2.7,<2.8.0a0|>=3.6,<3.7.0a0|>=3.8,<3.9.0a0|>=3.7,<3.8.0a0|>=3.5,<3.6.0a0|3.4.*|>3|>=3.5|<3.0.0|>=3.6,>=3.4,3.7.*|3.8.*')"
      ]
     },
     "execution_count": 9,
     "metadata": {},
     "output_type": "execute_result"
    }
   ],
   "source": [
    "conflicts[1].merge()"
   ]
  },
  {
   "cell_type": "code",
   "execution_count": null,
   "id": "illegal-owner",
   "metadata": {},
   "outputs": [
    {
     "data": {
      "text/plain": [
       "True"
      ]
     },
     "execution_count": 10,
     "metadata": {},
     "output_type": "execute_result"
    }
   ],
   "source": [
    "conflicts[1].merge().match(3.8)"
   ]
  },
  {
   "cell_type": "code",
   "execution_count": null,
   "id": "liable-communication",
   "metadata": {},
   "outputs": [
    {
     "data": {
      "text/plain": [
       "ConstraintGroup(name='ca-certificates', constraints=[])"
      ]
     },
     "execution_count": 11,
     "metadata": {},
     "output_type": "execute_result"
    }
   ],
   "source": [
    "conflicts[2]"
   ]
  },
  {
   "cell_type": "code",
   "execution_count": null,
   "id": "secure-retail",
   "metadata": {},
   "outputs": [
    {
     "data": {
      "text/plain": [
       "ConstraintGroup(name='setuptools', constraints=[Constraint(dependency='instrain', versions=VersionSpec('>=40.0'))])"
      ]
     },
     "execution_count": 12,
     "metadata": {},
     "output_type": "execute_result"
    }
   ],
   "source": [
    "conflicts[3]"
   ]
  },
  {
   "cell_type": "code",
   "execution_count": null,
   "id": "institutional-heaven",
   "metadata": {},
   "outputs": [
    {
     "data": {
      "text/plain": [
       "True"
      ]
     },
     "execution_count": 13,
     "metadata": {},
     "output_type": "execute_result"
    }
   ],
   "source": [
    "conflicts[3].merge().match(\"40.0\")"
   ]
  },
  {
   "cell_type": "code",
   "execution_count": null,
   "id": "spare-gregory",
   "metadata": {},
   "outputs": [
    {
     "data": {
      "text/plain": [
       "ConstraintGroup(name='libgcc-ng', constraints=[Constraint(dependency='samtools', versions=VersionSpec('>=7.2.0')), Constraint(dependency='samtools', versions=VersionSpec('>=4.9|>=7.3.0'))])"
      ]
     },
     "execution_count": 14,
     "metadata": {},
     "output_type": "execute_result"
    }
   ],
   "source": [
    "conflicts[4]"
   ]
  },
  {
   "cell_type": "code",
   "execution_count": null,
   "id": "resident-stadium",
   "metadata": {},
   "outputs": [
    {
     "data": {
      "text/plain": [
       "True"
      ]
     },
     "execution_count": 15,
     "metadata": {},
     "output_type": "execute_result"
    }
   ],
   "source": [
    "conflicts[4].merge().match(\"7.3.0\")"
   ]
  },
  {
   "cell_type": "code",
   "execution_count": null,
   "id": "included-kruger",
   "metadata": {},
   "outputs": [
    {
     "data": {
      "text/plain": [
       "ConstraintGroup(name='pypy3.6', constraints=[Constraint(dependency='instrain', versions=VersionSpec('7.3.0.*|7.3.1.*|>=7.3.1')), Constraint(dependency='awscli', versions=VersionSpec('7.3.*|7.3.0.*|7.3.1.*'))])"
      ]
     },
     "execution_count": 16,
     "metadata": {},
     "output_type": "execute_result"
    }
   ],
   "source": [
    "conflicts[5]"
   ]
  },
  {
   "cell_type": "code",
   "execution_count": null,
   "id": "several-adolescent",
   "metadata": {},
   "outputs": [
    {
     "data": {
      "text/plain": [
       "True"
      ]
     },
     "execution_count": 17,
     "metadata": {},
     "output_type": "execute_result"
    }
   ],
   "source": [
    "conflicts[5].merge().match(\"7.3.1\")"
   ]
  },
  {
   "cell_type": "code",
   "execution_count": null,
   "id": "preceding-bullet",
   "metadata": {},
   "outputs": [
    {
     "data": {
      "text/plain": [
       "ConstraintGroup(name='bzip2', constraints=[Constraint(dependency='samtools', versions=VersionSpec('1.0.*|>=1.0.6,<2.0a0|>=1.0.8,<2.0a0')), Constraint(dependency='instrain', versions=VersionSpec('>=1.0.6,<2.0a0|>=1.0.8,<2.0a0')), Constraint(dependency='awscli', versions=VersionSpec('>=1.0.6,<2.0a0|>=1.0.8,<2.0a0'))])"
      ]
     },
     "execution_count": 18,
     "metadata": {},
     "output_type": "execute_result"
    }
   ],
   "source": [
    "conflicts[6]"
   ]
  },
  {
   "cell_type": "code",
   "execution_count": null,
   "id": "acknowledged-marsh",
   "metadata": {},
   "outputs": [
    {
     "data": {
      "text/plain": [
       "True"
      ]
     },
     "execution_count": 19,
     "metadata": {},
     "output_type": "execute_result"
    }
   ],
   "source": [
    "conflicts[6].merge().match(\"1.0.8\")"
   ]
  },
  {
   "cell_type": "code",
   "execution_count": null,
   "id": "strong-spray",
   "metadata": {},
   "outputs": [
    {
     "data": {
      "text/plain": [
       "ConstraintGroup(name='zlib', constraints=[Constraint(dependency='samtools', versions=VersionSpec('1.2.11.*|>=1.2.11,<1.3.0a0|1.2.8.*|1.2.8')), Constraint(dependency='samtools', versions=VersionSpec('1.2.*|1.2.11'))])"
      ]
     },
     "execution_count": 20,
     "metadata": {},
     "output_type": "execute_result"
    }
   ],
   "source": [
    "conflicts[7]"
   ]
  },
  {
   "cell_type": "code",
   "execution_count": null,
   "id": "informational-decision",
   "metadata": {},
   "outputs": [
    {
     "data": {
      "text/plain": [
       "True"
      ]
     },
     "execution_count": 21,
     "metadata": {},
     "output_type": "execute_result"
    }
   ],
   "source": [
    "conflicts[7].merge().match(\"1.2.11\")"
   ]
  },
  {
   "cell_type": "code",
   "execution_count": null,
   "id": "greek-grade",
   "metadata": {},
   "outputs": [
    {
     "data": {
      "text/plain": [
       "ConstraintGroup(name='samtools', constraints=[Constraint(dependency='instrain', versions=VersionSpec('1.3|1.3.1.*|1.3.1|1.5.*|1.6.*|1.7|1.7.*|1.9.*|>=1.4.1|>=1.4.1,<1.5|>=1.4,<1.5|>=1.3,<1.4|>=1.3'))])"
      ]
     },
     "execution_count": 22,
     "metadata": {},
     "output_type": "execute_result"
    }
   ],
   "source": [
    "conflicts[8]"
   ]
  },
  {
   "cell_type": "code",
   "execution_count": null,
   "id": "british-institution",
   "metadata": {},
   "outputs": [
    {
     "data": {
      "text/plain": [
       "True"
      ]
     },
     "execution_count": 23,
     "metadata": {},
     "output_type": "execute_result"
    }
   ],
   "source": [
    "conflicts[8].merge().match(\"1.3\")"
   ]
  },
  {
   "cell_type": "code",
   "execution_count": null,
   "id": "finnish-camel",
   "metadata": {},
   "outputs": [
    {
     "data": {
      "text/plain": [
       "ConstraintGroup(name='openssl', constraints=[Constraint(dependency='samtools', versions=VersionSpec('1.0.*|>=1.0.2o,<1.0.3a|>=1.0.2m,<1.0.3a')), Constraint(dependency='samtools', versions=VersionSpec('>=1.0.2p,<1.0.3a|>=1.0.2r,<1.0.3a|>=1.1.1a,<1.1.2a'))])"
      ]
     },
     "execution_count": 24,
     "metadata": {},
     "output_type": "execute_result"
    }
   ],
   "source": [
    "conflicts[9]"
   ]
  },
  {
   "cell_type": "code",
   "execution_count": null,
   "id": "defensive-tribe",
   "metadata": {},
   "outputs": [
    {
     "data": {
      "text/plain": [
       "True"
      ]
     },
     "execution_count": 25,
     "metadata": {},
     "output_type": "execute_result"
    }
   ],
   "source": [
    "conflicts[9].merge().match(\"1.1.1a\")"
   ]
  },
  {
   "cell_type": "code",
   "execution_count": null,
   "id": "innovative-characterization",
   "metadata": {},
   "outputs": [
    {
     "data": {
      "text/plain": [
       "ConstraintGroup(name='_libgcc_mutex', constraints=[Constraint(dependency='samtools', versions=VersionSpec('*|0.1')), Constraint(dependency='python=3.8', versions=VersionSpec('*|0.1'))])"
      ]
     },
     "execution_count": 26,
     "metadata": {},
     "output_type": "execute_result"
    }
   ],
   "source": [
    "conflicts[10]"
   ]
  },
  {
   "cell_type": "code",
   "execution_count": null,
   "id": "alien-penalty",
   "metadata": {},
   "outputs": [
    {
     "data": {
      "text/plain": [
       "True"
      ]
     },
     "execution_count": 27,
     "metadata": {},
     "output_type": "execute_result"
    }
   ],
   "source": [
    "conflicts[10].merge().match(\"0.1\")"
   ]
  },
  {
   "cell_type": "code",
   "execution_count": null,
   "id": "needed-rendering",
   "metadata": {},
   "outputs": [
    {
     "data": {
      "text/plain": [
       "11"
      ]
     },
     "execution_count": 28,
     "metadata": {},
     "output_type": "execute_result"
    }
   ],
   "source": [
    "len(conflicts)"
   ]
  }
 ],
 "metadata": {
  "interpreter": {
   "hash": "3d597f4c481aa0f25dceb95d2a0067e73c0966dcbd003d741d821a7208527ecf"
  },
  "kernelspec": {
   "display_name": "Python 3.9.5 64-bit ('base': conda)",
   "name": "python3"
  },
  "language_info": {
   "codemirror_mode": {
    "name": "ipython",
    "version": 3
   },
   "file_extension": ".py",
   "mimetype": "text/x-python",
   "name": "python",
   "nbconvert_exporter": "python",
   "pygments_lexer": "ipython3",
   "version": "3.9.5"
  }
 },
 "nbformat": 4,
 "nbformat_minor": 5
}
