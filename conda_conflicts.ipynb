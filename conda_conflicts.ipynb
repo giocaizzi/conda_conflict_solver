{
 "cells": [
  {
   "cell_type": "code",
   "execution_count": null,
   "id": "realistic-incentive",
   "metadata": {},
   "outputs": [],
   "source": [
    "import functools\n",
    "import re\n",
    "from dataclasses import dataclass\n",
    "from typing import Dict, List, Optional\n",
    "\n",
    "from conda.models import version as cv\n",
    "import json"
   ]
  },
  {
   "cell_type": "markdown",
   "metadata": {},
   "source": [
    "Answer from [STACKOVERFLOW/github](https://gist.github.com/sbliven/aab43e1f0bce1f4ac63aaaaa718df0b3)"
   ]
  },
  {
   "cell_type": "code",
   "execution_count": null,
   "id": "painful-meditation",
   "metadata": {},
   "outputs": [],
   "source": [
    "@dataclass\n",
    "class Constraint:\n",
    "    dependency: Optional[\n",
    "        str\n",
    "    ]  # Name of dependency that requires the conflicting package\n",
    "    versions: cv.VersionSpec  # List of versions for the conflicting package\n",
    "\n",
    "\n",
    "@dataclass\n",
    "class ConstraintGroup:\n",
    "    name: str  # Name of conflicting package\n",
    "    constraints: List[Constraint]\n",
    "\n",
    "    def merge(self) -> cv.VersionSpec:\n",
    "        return functools.reduce(\n",
    "            lambda v1, v2: v1.merge(v2), (c.versions for c in self.constraints)\n",
    "        )\n",
    "\n",
    "\n",
    "def parse_conflicts(conflicts: str) -> List[ConstraintGroup]:\n",
    "    # groups separated by blank line\n",
    "    return [_parse_group(group) for group in conflicts.split(\"\\n\\n\")]\n",
    "\n",
    "\n",
    "def _parse_group(group: str) -> ConstraintGroup:\n",
    "    groupname = re.compile(r\"Package (\\S+) conflicts for:\")\n",
    "    lines = group.split(\"\\n\")\n",
    "    # first line gives name\n",
    "    match = groupname.match(lines[0])\n",
    "    name = match and match.group(1)\n",
    "    # look for versions in subsequent lines\n",
    "    return ConstraintGroup(\n",
    "        name, [c for c in (_parse_line(name, line) for line in lines[1:] if line) if c]\n",
    "    )\n",
    "\n",
    "\n",
    "def _parse_line(name: str, line: str) -> Constraint:\n",
    "    versionre = re.compile(r\"(?:(\\S+) .*)?\" + name + r\"(?:\\[version='([^']+)'[],])?\")\n",
    "    match = versionre.match(line)\n",
    "    if match:\n",
    "        dep = match.group(1)\n",
    "        spec = match.group(2)\n",
    "        if spec is None:\n",
    "            return None\n",
    "        versions = cv.VersionSpec(spec)\n",
    "        return Constraint(dep, versions)\n",
    "    else:\n",
    "        logging.warning(f\"Unable to parse {name} version in: {line!r}\")\n",
    "        return None"
   ]
  },
  {
   "cell_type": "code",
   "execution_count": null,
   "id": "dramatic-trunk",
   "metadata": {},
   "outputs": [],
   "source": [
    "class result:\n",
    "\n",
    "    def __init__(self,conflicts):\n",
    "        self.conflicts=conflicts\n",
    "\n",
    "    def manual_solver(self):\n",
    "        \n",
    "        self.result={}\n",
    "        \"\"\"\n",
    "        i - iterator of parsed lists\n",
    "        \"\"\"\n",
    "\n",
    "        for i in range(len(self.conflicts)):\n",
    "            # print(i)\n",
    "            if self.conflicts[i].name is not None:\n",
    "                self.result[self.conflicts[i].name]={}\n",
    "                \n",
    "                print(\"########\")\n",
    "                print(f\"{i} - {self.conflicts[i].name}\")\n",
    "                print(\"-----------\")\n",
    "                print(\"\")\n",
    "\n",
    "                if self.conflicts[i].constraints:\n",
    "                    valid=False\n",
    "                    while valid is False:\n",
    "                        print(self.conflicts[i].merge())\n",
    "                        value=input(f\"Enter value for {self.conflicts[i].name}: \")\n",
    "                        if self.conflicts[i].merge().match(value):\n",
    "                            print()\n",
    "                            print(f\"Solution: {value}\")\n",
    "                            print(\"\")\n",
    "                            print(\"\")\n",
    "                            valid=True\n",
    "                        else:\n",
    "                            print(\"Wrong value\")\n",
    "                \n",
    "                else:\n",
    "                    print(\"Empty\")\n",
    "                    value = \"NA\"\n",
    "                \n",
    "                self.result[self.conflicts[i].name][\"value\"]=value\n",
    "                self.result[self.conflicts[i].name][\"conflicting libs\"]=[\n",
    "                    self.conflicts[i].constraints[ii].dependency for ii in range(len(self.conflicts[i].constraints))]"
   ]
  },
  {
   "cell_type": "code",
   "execution_count": null,
   "metadata": {},
   "outputs": [],
   "source": [
    "with open(\"conflicts.txt\",\"r\") as f:\n",
    "    conflictstr = f.read()\n",
    "conflicts = parse_conflicts(conflictstr)\n",
    "r=result(conflicts)\n",
    "r.manual_solver()"
   ]
  },
  {
   "cell_type": "code",
   "execution_count": null,
   "metadata": {},
   "outputs": [],
   "source": [
    "r.result\n",
    "with open(\"result.json\",\"wb\") as f:\n",
    "    json.dump(r.result,f)"
   ]
  }
 ],
 "metadata": {
  "interpreter": {
   "hash": "3d597f4c481aa0f25dceb95d2a0067e73c0966dcbd003d741d821a7208527ecf"
  },
  "kernelspec": {
   "display_name": "Python 3.9.5 64-bit ('base': conda)",
   "name": "python3"
  },
  "language_info": {
   "codemirror_mode": {
    "name": "ipython",
    "version": 3
   },
   "file_extension": ".py",
   "mimetype": "text/x-python",
   "name": "python",
   "nbconvert_exporter": "python",
   "pygments_lexer": "ipython3",
   "version": "3.9.5"
  }
 },
 "nbformat": 4,
 "nbformat_minor": 5
}
